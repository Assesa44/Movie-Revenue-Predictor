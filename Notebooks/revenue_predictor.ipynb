{
 "cells": [
  {
   "cell_type": "markdown",
   "id": "38b3f9ad",
   "metadata": {},
   "source": [
    "# **MOVIE_REVENUE_PREDICTOR**\n",
    "### **`Background`**\n",
    "\n",
    "`Royal Empire Company` recently announced that the company was planning on launching new subsidiary companies with an aim of diversifying its porfolio. Among the companies to be launched is a production company, `Royal Empire Movie Studio`, which will involve the production and marketing of original and franchise movies. Commissioned by the company, this projects aims to try and predict movie revenues based on several movie factors. The insights will help stakeholders make informed data-driven decisions on the starting and running of the movie studio.\n",
    "\n",
    "## **Business Understanding**\n",
    "### Business Overview\n",
    "The film industry incorporates all of the technological and commercial aspects of filmmaking. This includes production companies, studios, cinematography, distribution, and a lot more. Some of the most important aspects in the industry include;\n",
    "\n",
    "- Production: This involves the creative process of making films, including screenwriting, pre-production, filming, and post-production.\n",
    "\n",
    "- Marketing: This involves activities aimed at promoting a movie to attract audiences and maximize revenue. It involves strategies like market research, target audience identification, and leveraging both traditional and digital media.\n",
    "\n",
    "- Distribution: This covers the methods used to get films to audiences, such as cinemas, television, online platforms, and other media outlets. \n",
    "\n",
    "- Monetizing: This involves the various methods used to generate revenue from films. These strategies include traditional avenues like theatrical releases, DVD sales, and television licensing, as well as newer digital approaches such as streaming and online video-on-demand (VOD) platforms.\n",
    "\n",
    "### Project Overview\n",
    "Despite the film industry being a multi-billion dollar market, predicting a movie's financial success has remained a challenge. This project will be exploring whether a machine learning model can estimate a film's box office revenue based on its features such as budget, genre, cast, director and audience ratings.\n",
    "\n",
    "This project also serves as an opportunity to practice Object-Oriented Programming (OOP) in data science workflows, improving modularity, readability, and scalability of the ML pipeline.\n",
    "\n",
    "### Project Objective\n",
    "- The primary goal of the project is to assist the company's production teams, investors, and other stakeholders in making data-driven decisions when evaluating new projects.\n",
    "\n",
    "### Stakeholders\n",
    "- Studio executives: Make key decisions regarding project development, financing, and distribution. \n",
    "\n",
    "- Investors: Provide the financial backing for the film. \n",
    "\n",
    "### Techniques used in the project\n",
    "The project will be applying the folowing to uncover patterns behind movie performance;\n",
    "- data preprocessing\n",
    "\n",
    "- feature engineering\n",
    "\n",
    "- supervised learning techniques\n"
   ]
  },
  {
   "cell_type": "code",
   "execution_count": null,
   "id": "db986701",
   "metadata": {},
   "outputs": [],
   "source": []
  }
 ],
 "metadata": {
  "kernelspec": {
   "display_name": "learn-env",
   "language": "python",
   "name": "python3"
  },
  "language_info": {
   "codemirror_mode": {
    "name": "ipython",
    "version": 3
   },
   "file_extension": ".py",
   "mimetype": "text/x-python",
   "name": "python",
   "nbconvert_exporter": "python",
   "pygments_lexer": "ipython3",
   "version": "3.8.5"
  }
 },
 "nbformat": 4,
 "nbformat_minor": 5
}
